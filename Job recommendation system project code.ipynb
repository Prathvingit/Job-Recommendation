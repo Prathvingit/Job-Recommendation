{
 "cells": [
  {
   "cell_type": "code",
   "execution_count": 6,
   "id": "0b830ccd",
   "metadata": {},
   "outputs": [],
   "source": [
    "import numpy as np\n",
    "import pandas as pd\n",
    "from sklearn.metrics.pairwise import cosine_similarity\n",
    "from sklearn.feature_extraction.text import TfidfVectorizer\n",
    "from sklearn.neighbors import NearestNeighbors\n"
   ]
  },
  {
   "cell_type": "markdown",
   "id": "3301fc65",
   "metadata": {},
   "source": [
    "##  Job listings data"
   ]
  },
  {
   "cell_type": "code",
   "execution_count": 9,
   "id": "38899e4a",
   "metadata": {},
   "outputs": [],
   "source": [
    "job_listings = pd.DataFrame({\n",
    "    'job_id': [1, 2, 3],\n",
    "    'title': ['Data Scientist', 'Software Engineer', 'Product Manager'],\n",
    "    'description': ['Seeking a data scientist with experience in machine learning.',\n",
    "                    'Looking for a software engineer proficient in Python and Java.',\n",
    "                    'Product manager with strong communication and leadership skills.']\n",
    "})\n"
   ]
  },
  {
   "cell_type": "markdown",
   "id": "a892c92b",
   "metadata": {},
   "source": [
    "## User profiles data"
   ]
  },
  {
   "cell_type": "code",
   "execution_count": 11,
   "id": "48d626a0",
   "metadata": {},
   "outputs": [],
   "source": [
    "user_profiles = pd.DataFrame({\n",
    "    'user_id': [1, 2],\n",
    "    'skills': ['Python, Machine Learning', 'Java, Communication']})"
   ]
  },
  {
   "cell_type": "markdown",
   "id": "7c73a0ef",
   "metadata": {},
   "source": [
    "## Collaborative Filtering"
   ]
  },
  {
   "cell_type": "code",
   "execution_count": 12,
   "id": "3428d81a",
   "metadata": {},
   "outputs": [],
   "source": [
    "def calculate_user_similarity(user1_skills, user2_skills):\n",
    "    user1_skills = set(user1_skills.split(', '))\n",
    "    user2_skills = set(user2_skills.split(', '))\n",
    "    intersection = len(user1_skills.intersection(user2_skills))\n",
    "    union = len(user1_skills.union(user2_skills))\n",
    "    return intersection / union\n",
    "\n",
    "def recommend_jobs_collaborative(user_profile, job_listings, num_recommendations=3):\n",
    "    job_listings['similarity'] = job_listings['description'].apply(\n",
    "        lambda x: calculate_user_similarity(user_profile['skills'], x))\n",
    "    recommended_jobs = job_listings.sort_values(by='similarity', ascending=False).head(num_recommendations)\n",
    "    return recommended_jobs[['job_id', 'title', 'description']]\n"
   ]
  },
  {
   "cell_type": "markdown",
   "id": "c919381e",
   "metadata": {},
   "source": [
    "## Content-Based Filtering"
   ]
  },
  {
   "cell_type": "code",
   "execution_count": 13,
   "id": "3564bf1e",
   "metadata": {},
   "outputs": [],
   "source": [
    "def recommend_jobs_content_based(user_profile, job_listings, num_recommendations=3):\n",
    "    tfidf_vectorizer = TfidfVectorizer()\n",
    "    tfidf_matrix = tfidf_vectorizer.fit_transform(job_listings['description'])\n",
    "    user_profile_vector = tfidf_vectorizer.transform([user_profile['skills']])\n",
    "    similarities = cosine_similarity(user_profile_vector, tfidf_matrix).flatten()\n",
    "    similar_jobs_indices = similarities.argsort()[-num_recommendations:][::-1]\n",
    "    recommended_jobs = job_listings.iloc[similar_jobs_indices][['job_id', 'title', 'description']]\n",
    "    return recommended_jobs"
   ]
  },
  {
   "cell_type": "code",
   "execution_count": 14,
   "id": "eda31a2a",
   "metadata": {},
   "outputs": [],
   "source": [
    "user_profile = user_profiles.iloc[0]"
   ]
  },
  {
   "cell_type": "markdown",
   "id": "e7279a8d",
   "metadata": {},
   "source": [
    "## Collaborative Filtering recommendations"
   ]
  },
  {
   "cell_type": "code",
   "execution_count": 15,
   "id": "2bc38fce",
   "metadata": {},
   "outputs": [
    {
     "name": "stdout",
     "output_type": "stream",
     "text": [
      "Collaborative Filtering Recommendations:\n",
      "   job_id              title  \\\n",
      "0       1     Data Scientist   \n",
      "1       2  Software Engineer   \n",
      "2       3    Product Manager   \n",
      "\n",
      "                                         description  \n",
      "0  Seeking a data scientist with experience in ma...  \n",
      "1  Looking for a software engineer proficient in ...  \n",
      "2  Product manager with strong communication and ...  \n"
     ]
    }
   ],
   "source": [
    "collab_recommendations = recommend_jobs_collaborative(user_profile, job_listings)\n",
    "print(\"Collaborative Filtering Recommendations:\")\n",
    "print(collab_recommendations)"
   ]
  },
  {
   "cell_type": "markdown",
   "id": "0474c42e",
   "metadata": {},
   "source": [
    "## Content-Based Filtering recommendations"
   ]
  },
  {
   "cell_type": "code",
   "execution_count": 16,
   "id": "d2c82c6d",
   "metadata": {},
   "outputs": [
    {
     "name": "stdout",
     "output_type": "stream",
     "text": [
      "\n",
      "Content-Based Filtering Recommendations:\n",
      "   job_id              title  \\\n",
      "0       1     Data Scientist   \n",
      "1       2  Software Engineer   \n",
      "2       3    Product Manager   \n",
      "\n",
      "                                         description  \n",
      "0  Seeking a data scientist with experience in ma...  \n",
      "1  Looking for a software engineer proficient in ...  \n",
      "2  Product manager with strong communication and ...  \n"
     ]
    }
   ],
   "source": [
    "content_based_recommendations = recommend_jobs_content_based(user_profile, job_listings)\n",
    "print(\"\\nContent-Based Filtering Recommendations:\")\n",
    "print(content_based_recommendations)"
   ]
  },
  {
   "cell_type": "code",
   "execution_count": null,
   "id": "ba5a5426",
   "metadata": {},
   "outputs": [],
   "source": []
  }
 ],
 "metadata": {
  "kernelspec": {
   "display_name": "Python 3 (ipykernel)",
   "language": "python",
   "name": "python3"
  },
  "language_info": {
   "codemirror_mode": {
    "name": "ipython",
    "version": 3
   },
   "file_extension": ".py",
   "mimetype": "text/x-python",
   "name": "python",
   "nbconvert_exporter": "python",
   "pygments_lexer": "ipython3",
   "version": "3.11.4"
  }
 },
 "nbformat": 4,
 "nbformat_minor": 5
}
